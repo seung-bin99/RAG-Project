{
 "cells": [
  {
   "cell_type": "code",
   "execution_count": 1,
   "id": "b9a2e5ea",
   "metadata": {},
   "outputs": [],
   "source": [
    "import os\n",
    "import warnings\n",
    "warnings.filterwarnings('ignore')"
   ]
  },
  {
   "cell_type": "markdown",
   "id": "13d8502f-6dfd-4bfa-9741-1fd6f0480b1f",
   "metadata": {},
   "source": [
    "**모델 불러오기(야놀자 EEVE 모델 사용 - 올해의 한국어 모델**"
   ]
  },
  {
   "cell_type": "code",
   "execution_count": 2,
   "id": "b4273f91-8b6d-445d-9ca0-8df09bed6560",
   "metadata": {},
   "outputs": [],
   "source": [
    "from langchain_community.chat_models import ChatOllama\n",
    "from langchain_core.output_parsers import StrOutputParser\n",
    "from langchain_core.prompts import ChatMessagePromptTemplate\n",
    "from langchain_core.callbacks.streaming_stdout import StreamingStdOutCallbackHandler\n",
    "from langchain_core.callbacks.manager import CallbackManager\n",
    "\n",
    "# Ollama를 이용해 로컬에서 LLM 실행\n",
    "model = ChatOllama(model='EEVE-Korean-10.8B')\n",
    "\n",
    "callback_manager=CallbackManager([StreamingStdOutCallbackHandler()])"
   ]
  },
  {
   "cell_type": "markdown",
   "id": "c56bb29c-d10e-476a-a581-68dea2e718a7",
   "metadata": {},
   "source": [
    "**임베딩 모델 설정(BAAI/bge-m3모델사용)**\n",
    "**- 한국어 문장 임베딩 모델 성능 비교 결과, 높은 성능 가짐**"
   ]
  },
  {
   "cell_type": "markdown",
   "id": "0e4c33a0-6299-4f3b-ae11-50e23ea283bc",
   "metadata": {},
   "source": [
    "**HuggingFace Embedding**"
   ]
  },
  {
   "cell_type": "code",
   "execution_count": 5,
   "id": "9dc8cc12-c534-4574-9769-1d9e51e8efc1",
   "metadata": {},
   "outputs": [],
   "source": [
    "from langchain.embeddings import HuggingFaceEmbeddings\n",
    "# 문장을 임베딩으로 변환 후, 벡터 저장소에 저장\n",
    "embedding_model = HuggingFaceEmbeddings(\n",
    "    model_name='BAAI/bge-m3',\n",
    "    model_kwargs={'device':'cpu'},\n",
    "    encode_kwargs={'normalize_embeddings':False}\n",
    ")"
   ]
  },
  {
   "cell_type": "markdown",
   "id": "0eece9ba-075c-4d14-a13d-0d2dd3715629",
   "metadata": {},
   "source": [
    "**Text Splitter**"
   ]
  },
  {
   "cell_type": "code",
   "execution_count": 6,
   "id": "77954c0f-ed93-4661-9573-f8500a36ff93",
   "metadata": {},
   "outputs": [],
   "source": [
    "from langchain.text_splitter import RecursiveCharacterTextSplitter\n",
    "from langchain.document_loaders import PyPDFLoader, TextLoader, Docx2txtLoader\n",
    "# 문서를 문장으로 분리\n",
    "def load_split_doc(loaders):\n",
    "    # 청크 크기 500, 각 청크 50자씩 겹치도록 청크 분할\n",
    "    text_splitter = RecursiveCharacterTextSplitter(chunk_size=500, \n",
    "                                                   chunk_overlap=50)\n",
    "    docs = []\n",
    "\n",
    "    for loader in loaders:\n",
    "        pages = loader.load_and_split()\n",
    "        splits = text_splitter.split_documents(pages)\n",
    "        docs.extend(splits)\n",
    "\n",
    "    return docs\n",
    "\n",
    "\n",
    "loaders = [\n",
    "    PyPDFLoader('./pet pdf/국내 반려동물 테마시설 시장 트렌드 및 동향.pdf'),\n",
    "    PyPDFLoader('./pet pdf/반려동물보험시장의 현황과 과제.pdf'),\n",
    "    PyPDFLoader('./pet pdf/동물보호법.pdf')\n",
    "]\n",
    "docs = load_split_doc(loaders)"
   ]
  },
  {
   "cell_type": "markdown",
   "id": "6289f375-9319-4fb7-a739-f838904b29e7",
   "metadata": {},
   "source": [
    "**벡터스토어 불러오기**"
   ]
  },
  {
   "cell_type": "code",
   "execution_count": 7,
   "id": "1f2831cc-e703-49f8-8322-f8990e794710",
   "metadata": {},
   "outputs": [],
   "source": [
    "from langchain_community.vectorstores import FAISS\n",
    "\n",
    "# load db\n",
    "vectorstore = FAISS.load_local(\n",
    "    './db/faiss', \n",
    "    embedding_model,\n",
    "    allow_dangerous_deserialization=True  # 안전하다고 확신할 경우에만 True로 설정\n",
    ")"
   ]
  },
  {
   "cell_type": "markdown",
   "id": "23e56042-f20f-4ea5-a504-2686a02c3f46",
   "metadata": {},
   "source": [
    "**Retriever 생성**"
   ]
  },
  {
   "cell_type": "code",
   "execution_count": 8,
   "id": "47ad0ddb-990f-4526-b94d-938f4f5b430b",
   "metadata": {},
   "outputs": [],
   "source": [
    "# 유사도 높은 3개 추출\n",
    "retriever = vectorstore.as_retriever(search_kwargs={'k': 3})"
   ]
  },
  {
   "cell_type": "markdown",
   "id": "b066d58a-857b-44fe-b56d-3fd80b95ecea",
   "metadata": {},
   "source": [
    "**LangChain**"
   ]
  },
  {
   "cell_type": "code",
   "execution_count": 9,
   "id": "ff6a57ea-ab1c-4b2b-97b4-8d26ed4d487c",
   "metadata": {},
   "outputs": [],
   "source": [
    "from langchain_core.runnables import RunnablePassthrough\n",
    "from langchain_core.output_parsers import StrOutputParser\n",
    "from langchain_core.prompts import ChatPromptTemplate, MessagesPlaceholder\n",
    "\n",
    "\n",
    "# Prompt 생성\n",
    "prompt = ChatPromptTemplate.from_messages(\n",
    "    [\n",
    "        (\n",
    "            \"system\",\n",
    "            \"\"\"\n",
    "            친절한 챗봇으로서 상대방의 요청에 최대한 자세하고 친절하게 답하자. 너의 이름은 '펫 케어 봇' 이야. 모든 대답은 한국어(Korean)으로 대답해줘.:\n",
    "            \\n\\n\n",
    "            {context}\",\n",
    "            \"\"\"\n",
    "        ),\n",
    "        (\"human\", \"{question}\"),\n",
    "    ]\n",
    ")\n",
    "\n",
    "def format_docs(docs):\n",
    "    return '\\n\\n'.join([d.page_content for d in docs])\n",
    "\n",
    "# RAG Chain 연결\n",
    "rag_chain = (\n",
    "    {'context': retriever | format_docs, 'question': RunnablePassthrough()}\n",
    "    | prompt # prompt : LLM 설정\n",
    "    | model  # model : LLM 종류\n",
    "    | StrOutputParser() # 채팅을 문자열로 변환하는 간단한 출력 구문 분석기\n",
    ")"
   ]
  }
 ],
 "metadata": {
  "kernelspec": {
   "display_name": "Python 3 (ipykernel)",
   "language": "python",
   "name": "python3"
  },
  "language_info": {
   "codemirror_mode": {
    "name": "ipython",
    "version": 3
   },
   "file_extension": ".py",
   "mimetype": "text/x-python",
   "name": "python",
   "nbconvert_exporter": "python",
   "pygments_lexer": "ipython3",
   "version": "3.12.4"
  }
 },
 "nbformat": 4,
 "nbformat_minor": 5
}
