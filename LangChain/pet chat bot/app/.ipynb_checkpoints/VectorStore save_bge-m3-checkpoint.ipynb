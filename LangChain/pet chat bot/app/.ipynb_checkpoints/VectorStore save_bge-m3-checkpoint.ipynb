{
 "cells": [
  {
   "cell_type": "code",
   "execution_count": 1,
   "id": "b9a2e5ea",
   "metadata": {},
   "outputs": [],
   "source": [
    "import os\n",
    "import warnings\n",
    "warnings.filterwarnings('ignore')"
   ]
  },
  {
   "cell_type": "markdown",
   "id": "13d8502f-6dfd-4bfa-9741-1fd6f0480b1f",
   "metadata": {},
   "source": [
    "**모델 불러오기**"
   ]
  },
  {
   "cell_type": "code",
   "execution_count": 2,
   "id": "b4273f91-8b6d-445d-9ca0-8df09bed6560",
   "metadata": {},
   "outputs": [],
   "source": [
    "from langchain_community.chat_models import ChatOllama\n",
    "from langchain_core.output_parsers import StrOutputParser\n",
    "from langchain_core.prompts import ChatMessagePromptTemplate\n",
    "from langchain_core.callbacks.streaming_stdout import StreamingStdOutCallbackHandler\n",
    "from langchain_core.callbacks.manager import CallbackManager\n",
    "\n",
    "# Ollama를 이용해 로컬에서 LLM 실행\n",
    "model = ChatOllama(model='EEVE-Korean-10.8B')\n",
    "\n",
    "callback_manager=CallbackManager([StreamingStdOutCallbackHandler()])"
   ]
  },
  {
   "cell_type": "markdown",
   "id": "c56bb29c-d10e-476a-a581-68dea2e718a7",
   "metadata": {},
   "source": [
    "**임베딩 모델 설정(BAAI/bge-m3 모델 사용 - 한국어 임베딩 모델 성능 비교 결과 준수한 성능)**"
   ]
  },
  {
   "cell_type": "markdown",
   "id": "0e4c33a0-6299-4f3b-ae11-50e23ea283bc",
   "metadata": {},
   "source": [
    "**HuggingFace Embedding**"
   ]
  },
  {
   "cell_type": "code",
   "execution_count": 3,
   "id": "9dc8cc12-c534-4574-9769-1d9e51e8efc1",
   "metadata": {},
   "outputs": [
    {
     "name": "stderr",
     "output_type": "stream",
     "text": [
      "C:\\Users\\user\\anaconda3\\Lib\\site-packages\\langchain_core\\_api\\deprecation.py:139: LangChainDeprecationWarning: The class `HuggingFaceEmbeddings` was deprecated in LangChain 0.2.2 and will be removed in 0.3.0. An updated version of the class exists in the langchain-huggingface package and should be used instead. To use it run `pip install -U langchain-huggingface` and import as `from langchain_huggingface import HuggingFaceEmbeddings`.\n",
      "  warn_deprecated(\n"
     ]
    }
   ],
   "source": [
    "from langchain.embeddings import HuggingFaceEmbeddings\n",
    "# 문장을 임베딩으로 변환 후, 벡터 저장소에 저장\n",
    "embedding_model = HuggingFaceEmbeddings(\n",
    "    model_name='BAAI/bge-m3',\n",
    "    model_kwargs={'device':'cpu'},\n",
    "    encode_kwargs={'normalize_embeddings':False}\n",
    ")"
   ]
  },
  {
   "cell_type": "markdown",
   "id": "0eece9ba-075c-4d14-a13d-0d2dd3715629",
   "metadata": {},
   "source": [
    "**Text Splitter**"
   ]
  },
  {
   "cell_type": "code",
   "execution_count": 4,
   "id": "77954c0f-ed93-4661-9573-f8500a36ff93",
   "metadata": {},
   "outputs": [],
   "source": [
    "from langchain.text_splitter import RecursiveCharacterTextSplitter\n",
    "from langchain.document_loaders import PyPDFLoader, TextLoader, Docx2txtLoader\n",
    "# 문서를 문장으로 분리\n",
    "def load_split_doc(loaders):\n",
    "    # 청크 크기 500, 각 청크 50자씩 겹치도록 청크 분할\n",
    "    text_splitter = RecursiveCharacterTextSplitter(chunk_size=500, \n",
    "                                                   chunk_overlap=50)\n",
    "    docs = []\n",
    "\n",
    "    for loader in loaders:\n",
    "        pages = loader.load_and_split()\n",
    "        splits = text_splitter.split_documents(pages)\n",
    "        docs.extend(splits)\n",
    "\n",
    "    return docs\n",
    "\n",
    "loaders = [\n",
    "    PyPDFLoader('./pet pdf/국내 반려동물 테마시설 시장 트렌드 및 동향.pdf'),\n",
    "    PyPDFLoader('./pet pdf/반려동물보험시장의 현황과 과제.pdf'),\n",
    "    PyPDFLoader('./pet pdf/동물보호법.pdf')\n",
    "]\n",
    "docs = load_split_doc(loaders)"
   ]
  },
  {
   "cell_type": "markdown",
   "id": "e9e5f1aa-6f26-4813-8fbf-d8cecf0df2e6",
   "metadata": {},
   "source": [
    "**벡터스토어(Vector store)생성 및 저장(FAISS)**"
   ]
  },
  {
   "cell_type": "code",
   "execution_count": 5,
   "id": "67e24b63-6bb6-4043-a2c4-334a0e248246",
   "metadata": {},
   "outputs": [],
   "source": [
    "from langchain_community.vectorstores import FAISS\n",
    "from langchain_community.vectorstores.utils import DistanceStrategy\n",
    "\n",
    "\n",
    "# 벡터저장소 생성 및 저장\n",
    "vectorstore = FAISS.from_documents(documents=docs,\n",
    "                                   embedding=embedding_model,\n",
    "                                   distance_strategy=DistanceStrategy.COSINE)\n",
    "\n",
    "# DB 저장\n",
    "vectorstore.save_local('./DB/faiss')"
   ]
  }
 ],
 "metadata": {
  "kernelspec": {
   "display_name": "Python 3 (ipykernel)",
   "language": "python",
   "name": "python3"
  },
  "language_info": {
   "codemirror_mode": {
    "name": "ipython",
    "version": 3
   },
   "file_extension": ".py",
   "mimetype": "text/x-python",
   "name": "python",
   "nbconvert_exporter": "python",
   "pygments_lexer": "ipython3",
   "version": "3.12.4"
  }
 },
 "nbformat": 4,
 "nbformat_minor": 5
}
